{
 "cells": [
  {
   "cell_type": "markdown",
   "id": "2525fb2f",
   "metadata": {},
   "source": [
    "<div style=\"align: center; margin: 0; padding: 0; height: 250px;\">\n",
    "    <br>\n",
    "    <img src=\"https://i.imgur.com/NwCENi7.jpg\" style=\"display:block; margin:auto; width:65%; height:100%;\">\n",
    "</div><br><br>\n",
    "\n",
    "<div style=\"letter-spacing:normal; opacity:1.;\">\n",
    "<!--   https://xkcd.com/color/rgb/   -->\n",
    "  <p style=\"text-align:center; background-color: lightsalmon; color: Jaguar; border-radius:10px; font-family:monospace; \n",
    "            line-height:1.4; font-size:32px; font-weight:bold; text-transform: uppercase; padding: 9px;\">\n",
    "            <strong>California Housing Prices Dataset</strong></p>  \n",
    "            \n",
    "  <p style=\"text-align:center; background-color:romance; color: Jaguar; border-radius:10px; font-family:monospace; \n",
    "            line-height:1.4; font-size:22px; font-weight:normal; text-transform: capitalize; padding: 5px;\"\n",
    "     >Machine Learning Engineer Module-2:<br>California Housing Prices Compute Weights<br><br></p>\n",
    "    \n",
    "  <div style=\"align: center;\">\n",
    "  <table style=\"text-align: center; background-color: romance; color: Jaguar; border-radius: 10px; font-family: monospace;\n",
    "                  line-height:1.4; font-size: 21px; font-weight: normal; text-transform: capitalize; padding: 5px; \n",
    "                  margin: 0 auto;\">\n",
    "    <tr><td style=\"text-align: left; padding-left: 0px;\"\n",
    "            > Linear Regression with Functions <span style=\"font-size: 16px;\">(Define Func: Preprocessor, Train Compute Weights, RMSE Loss)</span></td></tr>\n",
    "    <tr><td style=\"text-align: left; padding-left: 0px;\"\n",
    "            > Linear Regression with Functions <span style=\"font-size: 16px;\">(Define Func: Train Normal Equation with L2 (Ridge) Regularization)</span></td></tr>\n",
    "  </table>\n",
    "  </div>\n",
    "\n",
    "</div>"
   ]
  },
  {
   "cell_type": "markdown",
   "id": "32a8b00d",
   "metadata": {},
   "source": [
    "**Dataset More Info**\n",
    "\n",
    "> https://www.kaggle.com/datasets/camnugent/california-housing-prices\n",
    "\n",
    "**About Dataset**\n",
    "\n",
    "Median house prices for California districts derived from the 1990 census.\n",
    "\n",
    "**Context**\n",
    "\n",
    "This is the dataset used in the second chapter of Aurélien Géron's recent book 'Hands-On Machine learning with Scikit-Learn and TensorFlow'. It serves as an excellent introduction to implementing machine learning algorithms because it requires rudimentary data cleaning, has an easily understandable list of variables and sits at an optimal size between being to toyish and too cumbersome.\n",
    "\n",
    "The data contains information from the 1990 California census. So although it may not help you with predicting current housing prices like the Zillow Zestimate dataset, it does provide an accessible introductory dataset for teaching people about the basics of machine learning.\n",
    "\n",
    "**Content**\n",
    "\n",
    "The data pertains to the houses found in a given California district and some summary stats about them based on the 1990 census data. Be warned the data aren't cleaned so there are some preprocessing steps required! The columns are as follows, their names are pretty self explanitory:\n",
    "\n",
    "longitude\n",
    "\n",
    "latitude\n",
    "\n",
    "housing_median_age\n",
    "\n",
    "total_rooms\n",
    "\n",
    "total_bedrooms\n",
    "\n",
    "population\n",
    "\n",
    "households\n",
    "\n",
    "median_income\n",
    "\n",
    "median_house_value\n",
    "\n",
    "ocean_proximity\n",
    "\n",
    "**Acknowledgements**\n",
    "\n",
    "This data was initially featured in the following paper:\n",
    "\n",
    "Pace, R. Kelley, and Ronald Barry. \"Sparse spatial autoregressions.\" Statistics & Probability Letters 33.3 (1997): 291-297.\n",
    "\n",
    "and I encountered it in 'Hands-On Machine learning with Scikit-Learn and TensorFlow' by Aurélien Géron.\n",
    "\n",
    "Aurélien Géron wrote:\n",
    "\n",
    "This dataset is a modified version of the California Housing dataset available from:\n",
    "\n",
    "[Luís Torgo's page](http://www.dcc.fc.up.pt/~ltorgo/Regression/cal_housing.html) (University of Porto)\n",
    "\n",
    "**Inspiration**\n",
    "\n",
    "See my kernel on machine learning basics in R using this dataset, or venture over to the following link for a python based introductory tutorial:\n",
    "\n",
    "https://github.com/ageron/handson-ml/tree/master/datasets/housing\n",
    "\n",
    "\n",
    "[Download Data](https://raw.githubusercontent.com/alexeygrigorev/datasets/master/housing.csv)"
   ]
  },
  {
   "cell_type": "markdown",
   "id": "dab108c8",
   "metadata": {},
   "source": [
    "**TASK**\n",
    "\n",
    "## Homework\n",
    "\n",
    "> Note: sometimes your answer doesn't match one of \n",
    "> the options exactly. That's fine. \n",
    "> Select the option that's closest to your solution.\n",
    "\n",
    "\n",
    "<!-- Solution: [homework.ipynb](homework.ipynb) -->\n",
    "\n",
    "### Dataset\n",
    "\n",
    "In this homework, we will use the California Housing Prices from [Kaggle](https://www.kaggle.com/datasets/camnugent/california-housing-prices).\n",
    "\n",
    "Here's a wget-able [link](https://raw.githubusercontent.com/alexeygrigorev/datasets/master/housing.csv):\n",
    "\n",
    "```bash\n",
    "wget https://raw.githubusercontent.com/alexeygrigorev/datasets/master/housing.csv\n",
    "```\n",
    "\n",
    "The goal of this homework is to create a regression model for predicting housing prices (column `'median_house_value'`).\n",
    "\n",
    "### EDA\n",
    "\n",
    "* Load the data.\n",
    "* Look at the `median_house_value` variable. Does it have a long tail? \n",
    "\n",
    "\n",
    "### Preparing the dataset \n",
    "\n",
    "For this homework, we only want to use a subset of data. \n",
    "\n",
    "First, keep only the records where `ocean_proximity` is either `'<1H OCEAN'` or `'INLAND'`\n",
    "\n",
    "Next, use only the following columns:\n",
    "\n",
    "* `'latitude'`,\n",
    "* `'longitude'`,\n",
    "* `'housing_median_age'`,\n",
    "* `'total_rooms'`,\n",
    "* `'total_bedrooms'`,\n",
    "* `'population'`,\n",
    "* `'households'`,\n",
    "* `'median_income'`,\n",
    "* `'median_house_value'`\n",
    "\n",
    "\n",
    "## Submit the results\n",
    "\n",
    "- Submit your results here: https://forms.gle/nNUTLzz3F9KiFHNp9\n",
    "- If your answer doesn't match options exactly, select the closest one.\n",
    "- You can submit your solution multiple times. In this case, only the last submission will be used\n",
    "\n",
    "## Deadline\n",
    "\n",
    "The deadline for submitting is September 25 (Monday), 23:00 CET. After that the form will be closed.\n",
    "\n",
    "Questions: https://github.com/DataTalksClub/machine-learning-zoomcamp/blob/master/cohorts/2023/02-regression/homework.md"
   ]
  },
  {
   "cell_type": "markdown",
   "id": "78138c11",
   "metadata": {},
   "source": [
    "<div style=\"letter-spacing:normal; opacity:1.;\">\n",
    "  <h1 style=\"text-align:center; background-color: lightsalmon; color: Jaguar; border-radius:10px; font-family:monospace; border-radius:20px;\n",
    "            line-height:1.4; font-size:32px; font-weight:bold; text-transform: uppercase; padding: 9px;\">\n",
    "            <strong>1. Import Libraries & Ingest Data</strong></h1>   \n",
    "</div>\n",
    "\n",
    "> ⚠️ Not Recommended conda `base` env, work on `venv`\n",
    "\n",
    "- https://docs.conda.io/projects/conda/en/4.6.0/_downloads/52a95608c49671267e40c689e0bc00ca/conda-cheatsheet.pdf\n",
    "\n",
    "```\n",
    "pip freeze > requirements.txt\n",
    "conda list -e > requirements.txt\n",
    "\n",
    "# new conda virtual environment\n",
    "conda create --name \"lin-reg\" python=3.10 jupyter -y\n",
    "conda activate \"lin-reg\"\n",
    "\n",
    "# install all package dependencies\n",
    "pip install -r requirements.txt\n",
    "conda install -c conda-forge --file=requirements.txt      # mostly not work\n",
    "conda install -c conda-forge pandas==2.0.2 -q -y\n",
    "\n",
    "# if The environment is inconsistent, try below\n",
    "conda update -n base -c defaults conda --force-reinstall\n",
    "conda install anaconda --force-reinstall\n",
    "\n",
    "```\n",
    "\n",
    "**You must use the `--no-deps` option in the pip install command in order to avoid bundling dependencies into your conda-package.**\n",
    "\n",
    "If you run pip install without the `--no-deps` option, pip will often install dependencies in your conda recipe and those dependencies will become part of your package. This wastes space in the package and `increases the risk of file overlap`, file clobbering, and broken packages.\n",
    "\n",
    "There might be cases where you want to install a package directly from a local directory or a specific location, without relying on the package indexes. In such situations, you can use the `--no-index` option to tell pip not to look for the package in any indexes.\n",
    "\n",
    "```\n",
    "- command1 & command2  # runs simultaneously\n",
    "- command1 ; command2  # runs sequentially\n",
    "- command1 && command2 # runs sequentially, runs command2 only if command1 succeeds\n",
    "- command1 || command2 # runs sequentially, runs command2 only if command1 fails\n",
    "```"
   ]
  },
  {
   "cell_type": "code",
   "execution_count": 1,
   "id": "12da05a2",
   "metadata": {},
   "outputs": [
    {
     "name": "stdout",
     "output_type": "stream",
     "text": [
      "Python 3.10.12\n"
     ]
    }
   ],
   "source": [
    "!python -V"
   ]
  },
  {
   "cell_type": "code",
   "execution_count": 2,
   "id": "7a942a4e",
   "metadata": {},
   "outputs": [
    {
     "name": "stdout",
     "output_type": "stream",
     "text": [
      "Overwriting requirements.txt\n"
     ]
    }
   ],
   "source": [
    "%%writefile requirements.txt \n",
    "# To get started with MLflow you'll need to install the appropriate Python package.\n",
    "\n",
    "# for parquet file\n",
    "pyarrow\n",
    "fastparquet\n",
    "# orjson is a fast, correct JSON library\n",
    "orjson\n",
    "numpy\n",
    "pandas\n",
    "matplotlib\n",
    "seaborn\n",
    "scipy\n",
    "tqdm\n",
    "joblib\n",
    "\n",
    "# ML Model packages\n",
    "scikit-learn\n",
    "xgboost\n",
    "optuna\n",
    "hyperopt\n",
    "\n",
    "# MLOPS experiment-tracking Packages\n",
    "mlflow\n",
    "wandb\n",
    "\n",
    "# MLOPS Orchestration Packages\n",
    "boto3\n",
    "prefect\n",
    "prefect-aws\n",
    "prefect-email\n",
    "\n",
    "# MLOPS Monitoring Packages\n",
    "evidently\n",
    "psycopg\n",
    "psycopg[binary]\n",
    "\n",
    "# Optionally\n",
    "requests\n",
    "# for py file parameter\n",
    "click\n",
    "# for code style\n",
    "black\n",
    "\n",
    "# Optionally\n",
    "jupyter\n",
    "ipykernel\n",
    "ipywidgets\n",
    "pipenv"
   ]
  },
  {
   "cell_type": "code",
   "execution_count": 3,
   "id": "662facc5",
   "metadata": {},
   "outputs": [],
   "source": [
    "# !pip install pyarrow fastparquet orjson pandas matplotlib seaborn tqdm requests scikit-learn xgboost optuna hyperopt\n",
    "# !pip install mlflow prefect prefect-email boto3 prefect-aws joblib evidently\n",
    "# !pip install psycopg psycopg[binary] pipenv jupyter ipykernel ipywidgets"
   ]
  },
  {
   "cell_type": "code",
   "execution_count": 4,
   "id": "63eff564",
   "metadata": {},
   "outputs": [
    {
     "name": "stdout",
     "output_type": "stream",
     "text": [
      "Platform: Windows\n",
      "Python  : 3.10.12\n",
      "Actv Env: lin-reg\n"
     ]
    }
   ],
   "source": [
    "import os, sys, platform, IPython.display\n",
    "\n",
    "# pip install --no-deps --no-index --force-reinstall --no-cache-dir --user\n",
    "# !{sys.executable} -m pip install -Uq -r requirements.txt --no-cache-dir --user\n",
    "# !jupyter nbextension enable --py widgetsnbextension\n",
    "\n",
    "# IPython.display.clear_output()\n",
    "print(\"Platform:\", platform.system())  # platform.platform()\n",
    "print(\"Python  :\", platform.python_version())  # sys.version\n",
    "print(\"Actv Env:\", os.getenv('CONDA_DEFAULT_ENV', 'Not Found Conda Env'))"
   ]
  },
  {
   "cell_type": "code",
   "execution_count": 5,
   "id": "81ffeeb2",
   "metadata": {},
   "outputs": [
    {
     "data": {
      "text/plain": [
       "0"
      ]
     },
     "execution_count": 5,
     "metadata": {},
     "output_type": "execute_result"
    }
   ],
   "source": [
    "import numpy as np\n",
    "import pandas as pd\n",
    "import matplotlib as mpl\n",
    "import matplotlib.pyplot as plt\n",
    "import seaborn as sns\n",
    "\n",
    "import statsmodels.api as sm\n",
    "# import scipy\n",
    "# import scipy.stats as stats\n",
    "# from scipy.sparse import hstack\n",
    "from scipy.stats import skew, norm, gamma, probplot\n",
    "\n",
    "from sklearn.feature_extraction import DictVectorizer\n",
    "from sklearn.preprocessing import OneHotEncoder\n",
    "# from sklearn.preprocessing import StandardScaler, MinMaxScaler, RobustScaler\n",
    "\n",
    "from sklearn.linear_model import LinearRegression, TweedieRegressor\n",
    "# from sklearn.linear_model import ElasticNet, Lasso, LassoCV, Ridge, RidgeCV\n",
    "# from sklearn.svm import LinearSVR\n",
    "from sklearn.ensemble import RandomForestRegressor\n",
    "# from sklearn.ensemble import GradientBoostingRegressor, ExtraTreesRegressor\n",
    "\n",
    "from sklearn.metrics import mean_squared_error, mean_absolute_error, r2_score\n",
    "# from sklearn.model_selection import GridSearchCV\n",
    "\n",
    "import xgboost as xgb\n",
    "\n",
    "# Hyperparameter Optimization with Tree-structured Parzen Estimator (TPE) algorithm\n",
    "import optuna\n",
    "from hyperopt import fmin, tpe, hp, STATUS_OK, Trials\n",
    "from hyperopt.pyll import scope\n",
    "\n",
    "import os\n",
    "import sys\n",
    "import pickle\n",
    "import zipfile\n",
    "# import boto3\n",
    "# import click\n",
    "# import pathlib\n",
    "# import argparse\n",
    "# import requests\n",
    "# import urllib.request\n",
    "from glob import glob\n",
    "# from tqdm import tqdm           # console-based\n",
    "# from tqdm.notebook import tqdm  # jupyter-based\n",
    "from tqdm.auto import tqdm        # automatically selects\n",
    "# tqdm._instances.clear()\n",
    "# Import joblib for model persistence\n",
    "# from joblib import load, dump\n",
    "\n",
    "# memory management performs garbage collection \n",
    "import gc\n",
    "gc.collect()"
   ]
  },
  {
   "cell_type": "code",
   "execution_count": 6,
   "id": "6fe8272b",
   "metadata": {},
   "outputs": [],
   "source": [
    "# Filter out FutureWarnings\n",
    "import warnings\n",
    "# warnings.simplefilter(action='ignore', category=FutureWarning)\n",
    "# warnings.filterwarnings(action=\"ignore\", message=\"FutureWarning: is_categorical_dtype*\")\n",
    "warnings.filterwarnings(action=\"ignore\", module=\"seaborn\", category=FutureWarning, message='(is_categorical_dtype is deprecated)')\n",
    "warnings.filterwarnings(action=\"ignore\", module=\"seaborn\", category=FutureWarning, message='(use_inf_as_na option is deprecated)')\n",
    "warnings.filterwarnings(action=\"ignore\", module=\"sklearn\", category=FutureWarning, message='(is_sparse is deprecated)')\n",
    "warnings.filterwarnings(action=\"ignore\", module=\"xgboost\", category=FutureWarning, message='(is_sparse is deprecated)')"
   ]
  },
  {
   "cell_type": "code",
   "execution_count": 7,
   "id": "712925f8",
   "metadata": {},
   "outputs": [
    {
     "name": "stdout",
     "output_type": "stream",
     "text": [
      "-----\n",
      "hyperopt            0.2.7\n",
      "matplotlib          3.8.1\n",
      "numpy               1.25.2\n",
      "optuna              3.3.0\n",
      "pandas              2.1.0\n",
      "scipy               1.11.3\n",
      "seaborn             0.13.0\n",
      "session_info        1.0.0\n",
      "sklearn             1.2.2\n",
      "statsmodels         0.14.0\n",
      "tqdm                4.66.1\n",
      "xgboost             2.0.1\n",
      "-----\n",
      "IPython             8.12.0\n",
      "jupyter_client      7.4.9\n",
      "jupyter_core        5.3.0\n",
      "jupyterlab          3.6.3\n",
      "notebook            6.5.4\n",
      "-----\n",
      "Python 3.10.12 | packaged by Anaconda, Inc. | (main, Jul  5 2023, 19:09:20) [MSC v.1916 64 bit (AMD64)]\n",
      "Windows-10-10.0.22621-SP0\n",
      "-----\n",
      "Session information updated at 2023-11-02 04:24\n"
     ]
    }
   ],
   "source": [
    "# !pip install session_info\n",
    "import session_info\n",
    "session_info.show(html=False)"
   ]
  },
  {
   "cell_type": "code",
   "execution_count": 8,
   "id": "e78613e6",
   "metadata": {},
   "outputs": [],
   "source": [
    "import os\n",
    "# Get the current working directory\n",
    "# current_dir = os.getcwd()\n",
    "\n",
    "# Create a new directory for storing data\n",
    "# os.makedirs('./data', exist_ok=True)\n",
    "# os.makedirs('./pycode', exist_ok=True)\n",
    "# os.makedirs('./output', exist_ok=True)\n",
    "# os.makedirs('./model', exist_ok=True)"
   ]
  },
  {
   "cell_type": "markdown",
   "id": "cb564b98",
   "metadata": {},
   "source": [
    "<div style=\"letter-spacing:normal; opacity:1.;\">\n",
    "  <h1 style=\"text-align:center; background-color: lightsalmon; color: Jaguar; border-radius:10px; font-family:monospace; border-radius:20px;\n",
    "            line-height:1.4; font-size:32px; font-weight:bold; text-transform: uppercase; padding: 9px;\">\n",
    "            <strong>2. Recognizing and Understanding Data</strong></h1>   \n",
    "</div>"
   ]
  },
  {
   "cell_type": "markdown",
   "id": "fada2c5e",
   "metadata": {},
   "source": [
    "### Getting the data \n",
    "\n",
    "For this homework, we'll use the California Housing Prices dataset. Download it from \n",
    "[here](https://raw.githubusercontent.com/alexeygrigorev/datasets/master/housing.csv).\n",
    "\n",
    "You can do it with wget:\n",
    "\n",
    "```bash\n",
    "wget https://raw.githubusercontent.com/alexeygrigorev/datasets/master/housing.csv\n",
    "```\n",
    "\n",
    "Or just open it with your browser and click \"Save as...\".\n",
    "\n",
    "Now read it with Pandas."
   ]
  },
  {
   "cell_type": "markdown",
   "id": "ebb5b120",
   "metadata": {},
   "source": [
    "### Ingest Data [wget](https://linuxways.net/centos/linux-wget-command-with-examples/) or [curl](https://daniel.haxx.se/blog/2020/09/10/store-the-curl-output-over-there/)"
   ]
  },
  {
   "cell_type": "code",
   "execution_count": 9,
   "id": "7e2a3fc1",
   "metadata": {},
   "outputs": [],
   "source": [
    "# Download the data\n",
    "!curl -Os --create-dirs --output-dir \"./data\" https://raw.githubusercontent.com/alexeygrigorev/datasets/master/housing.csv"
   ]
  },
  {
   "cell_type": "code",
   "execution_count": 10,
   "id": "044ce591",
   "metadata": {},
   "outputs": [
    {
     "data": {
      "text/plain": [
       "['data\\\\housing.csv']"
      ]
     },
     "execution_count": 10,
     "metadata": {},
     "output_type": "execute_result"
    }
   ],
   "source": [
    "glob('data/*.*')"
   ]
  },
  {
   "cell_type": "code",
   "execution_count": 11,
   "id": "c9984fe2",
   "metadata": {},
   "outputs": [],
   "source": [
    "# Read the data\n",
    "csv_filename = 'housing.csv'\n",
    "csv_filepath = f'data/{csv_filename}'\n",
    "\n",
    "# Read the CSV file\n",
    "df = pd.read_csv(csv_filepath, low_memory=False)"
   ]
  },
  {
   "cell_type": "code",
   "execution_count": 12,
   "id": "eed03057",
   "metadata": {},
   "outputs": [
    {
     "name": "stdout",
     "output_type": "stream",
     "text": [
      "Shape of DataFrame: (20640, 10)\n"
     ]
    },
    {
     "data": {
      "text/html": [
       "<div>\n",
       "<style scoped>\n",
       "    .dataframe tbody tr th:only-of-type {\n",
       "        vertical-align: middle;\n",
       "    }\n",
       "\n",
       "    .dataframe tbody tr th {\n",
       "        vertical-align: top;\n",
       "    }\n",
       "\n",
       "    .dataframe thead th {\n",
       "        text-align: right;\n",
       "    }\n",
       "</style>\n",
       "<table border=\"1\" class=\"dataframe\">\n",
       "  <thead>\n",
       "    <tr style=\"text-align: right;\">\n",
       "      <th></th>\n",
       "      <th>longitude</th>\n",
       "      <th>latitude</th>\n",
       "      <th>housing_median_age</th>\n",
       "      <th>total_rooms</th>\n",
       "      <th>total_bedrooms</th>\n",
       "      <th>population</th>\n",
       "      <th>households</th>\n",
       "      <th>median_income</th>\n",
       "      <th>median_house_value</th>\n",
       "      <th>ocean_proximity</th>\n",
       "    </tr>\n",
       "  </thead>\n",
       "  <tbody>\n",
       "    <tr>\n",
       "      <th>0</th>\n",
       "      <td>-122.23</td>\n",
       "      <td>37.88</td>\n",
       "      <td>41.0</td>\n",
       "      <td>880.0</td>\n",
       "      <td>129.0</td>\n",
       "      <td>322.0</td>\n",
       "      <td>126.0</td>\n",
       "      <td>8.3252</td>\n",
       "      <td>452600.0</td>\n",
       "      <td>NEAR BAY</td>\n",
       "    </tr>\n",
       "    <tr>\n",
       "      <th>1</th>\n",
       "      <td>-122.22</td>\n",
       "      <td>37.86</td>\n",
       "      <td>21.0</td>\n",
       "      <td>7099.0</td>\n",
       "      <td>1106.0</td>\n",
       "      <td>2401.0</td>\n",
       "      <td>1138.0</td>\n",
       "      <td>8.3014</td>\n",
       "      <td>358500.0</td>\n",
       "      <td>NEAR BAY</td>\n",
       "    </tr>\n",
       "    <tr>\n",
       "      <th>2</th>\n",
       "      <td>-122.24</td>\n",
       "      <td>37.85</td>\n",
       "      <td>52.0</td>\n",
       "      <td>1467.0</td>\n",
       "      <td>190.0</td>\n",
       "      <td>496.0</td>\n",
       "      <td>177.0</td>\n",
       "      <td>7.2574</td>\n",
       "      <td>352100.0</td>\n",
       "      <td>NEAR BAY</td>\n",
       "    </tr>\n",
       "    <tr>\n",
       "      <th>3</th>\n",
       "      <td>-122.25</td>\n",
       "      <td>37.85</td>\n",
       "      <td>52.0</td>\n",
       "      <td>1274.0</td>\n",
       "      <td>235.0</td>\n",
       "      <td>558.0</td>\n",
       "      <td>219.0</td>\n",
       "      <td>5.6431</td>\n",
       "      <td>341300.0</td>\n",
       "      <td>NEAR BAY</td>\n",
       "    </tr>\n",
       "    <tr>\n",
       "      <th>4</th>\n",
       "      <td>-122.25</td>\n",
       "      <td>37.85</td>\n",
       "      <td>52.0</td>\n",
       "      <td>1627.0</td>\n",
       "      <td>280.0</td>\n",
       "      <td>565.0</td>\n",
       "      <td>259.0</td>\n",
       "      <td>3.8462</td>\n",
       "      <td>342200.0</td>\n",
       "      <td>NEAR BAY</td>\n",
       "    </tr>\n",
       "  </tbody>\n",
       "</table>\n",
       "</div>"
      ],
      "text/plain": [
       "   longitude  latitude  housing_median_age  total_rooms  total_bedrooms  \\\n",
       "0    -122.23     37.88                41.0        880.0           129.0   \n",
       "1    -122.22     37.86                21.0       7099.0          1106.0   \n",
       "2    -122.24     37.85                52.0       1467.0           190.0   \n",
       "3    -122.25     37.85                52.0       1274.0           235.0   \n",
       "4    -122.25     37.85                52.0       1627.0           280.0   \n",
       "\n",
       "   population  households  median_income  median_house_value ocean_proximity  \n",
       "0       322.0       126.0         8.3252            452600.0        NEAR BAY  \n",
       "1      2401.0      1138.0         8.3014            358500.0        NEAR BAY  \n",
       "2       496.0       177.0         7.2574            352100.0        NEAR BAY  \n",
       "3       558.0       219.0         5.6431            341300.0        NEAR BAY  \n",
       "4       565.0       259.0         3.8462            342200.0        NEAR BAY  "
      ]
     },
     "execution_count": 12,
     "metadata": {},
     "output_type": "execute_result"
    }
   ],
   "source": [
    "print(\"Shape of DataFrame:\", df.shape)\n",
    "df.head()"
   ]
  },
  {
   "cell_type": "code",
   "execution_count": 13,
   "id": "bf1e3f04",
   "metadata": {},
   "outputs": [
    {
     "name": "stdout",
     "output_type": "stream",
     "text": [
      "<class 'pandas.core.frame.DataFrame'>\n",
      "RangeIndex: 20640 entries, 0 to 20639\n",
      "Data columns (total 10 columns):\n",
      " #   Column              Non-Null Count  Dtype  \n",
      "---  ------              --------------  -----  \n",
      " 0   longitude           20640 non-null  float64\n",
      " 1   latitude            20640 non-null  float64\n",
      " 2   housing_median_age  20640 non-null  float64\n",
      " 3   total_rooms         20640 non-null  float64\n",
      " 4   total_bedrooms      20433 non-null  float64\n",
      " 5   population          20640 non-null  float64\n",
      " 6   households          20640 non-null  float64\n",
      " 7   median_income       20640 non-null  float64\n",
      " 8   median_house_value  20640 non-null  float64\n",
      " 9   ocean_proximity     20640 non-null  object \n",
      "dtypes: float64(9), object(1)\n",
      "memory usage: 1.6+ MB\n"
     ]
    }
   ],
   "source": [
    "df.info()"
   ]
  },
  {
   "cell_type": "code",
   "execution_count": 14,
   "id": "4f4baef2",
   "metadata": {},
   "outputs": [
    {
     "data": {
      "text/plain": [
       "longitude               0\n",
       "latitude                0\n",
       "housing_median_age      0\n",
       "total_rooms             0\n",
       "total_bedrooms        207\n",
       "population              0\n",
       "households              0\n",
       "median_income           0\n",
       "median_house_value      0\n",
       "ocean_proximity         0\n",
       "dtype: int64"
      ]
     },
     "execution_count": 14,
     "metadata": {},
     "output_type": "execute_result"
    }
   ],
   "source": [
    "df.isna().sum()"
   ]
  },
  {
   "cell_type": "code",
   "execution_count": 15,
   "id": "7837c3b8",
   "metadata": {},
   "outputs": [
    {
     "data": {
      "text/html": [
       "<div>\n",
       "<style scoped>\n",
       "    .dataframe tbody tr th:only-of-type {\n",
       "        vertical-align: middle;\n",
       "    }\n",
       "\n",
       "    .dataframe tbody tr th {\n",
       "        vertical-align: top;\n",
       "    }\n",
       "\n",
       "    .dataframe thead th {\n",
       "        text-align: right;\n",
       "    }\n",
       "</style>\n",
       "<table border=\"1\" class=\"dataframe\">\n",
       "  <thead>\n",
       "    <tr style=\"text-align: right;\">\n",
       "      <th></th>\n",
       "      <th>count</th>\n",
       "      <th>unique</th>\n",
       "      <th>top</th>\n",
       "      <th>freq</th>\n",
       "    </tr>\n",
       "  </thead>\n",
       "  <tbody>\n",
       "    <tr>\n",
       "      <th>ocean_proximity</th>\n",
       "      <td>20640</td>\n",
       "      <td>5</td>\n",
       "      <td>&lt;1H OCEAN</td>\n",
       "      <td>9136</td>\n",
       "    </tr>\n",
       "  </tbody>\n",
       "</table>\n",
       "</div>"
      ],
      "text/plain": [
       "                 count unique        top  freq\n",
       "ocean_proximity  20640      5  <1H OCEAN  9136"
      ]
     },
     "execution_count": 15,
     "metadata": {},
     "output_type": "execute_result"
    }
   ],
   "source": [
    "df.describe(include='O').T"
   ]
  },
  {
   "cell_type": "code",
   "execution_count": 16,
   "id": "5b166a71",
   "metadata": {},
   "outputs": [
    {
     "data": {
      "text/html": [
       "<div>\n",
       "<style scoped>\n",
       "    .dataframe tbody tr th:only-of-type {\n",
       "        vertical-align: middle;\n",
       "    }\n",
       "\n",
       "    .dataframe tbody tr th {\n",
       "        vertical-align: top;\n",
       "    }\n",
       "\n",
       "    .dataframe thead th {\n",
       "        text-align: right;\n",
       "    }\n",
       "</style>\n",
       "<table border=\"1\" class=\"dataframe\">\n",
       "  <thead>\n",
       "    <tr style=\"text-align: right;\">\n",
       "      <th></th>\n",
       "      <th>count</th>\n",
       "      <th>mean</th>\n",
       "      <th>std</th>\n",
       "      <th>min</th>\n",
       "      <th>25%</th>\n",
       "      <th>50%</th>\n",
       "      <th>75%</th>\n",
       "      <th>max</th>\n",
       "    </tr>\n",
       "  </thead>\n",
       "  <tbody>\n",
       "    <tr>\n",
       "      <th>longitude</th>\n",
       "      <td>20640.0</td>\n",
       "      <td>-119.569704</td>\n",
       "      <td>2.003532</td>\n",
       "      <td>-124.3500</td>\n",
       "      <td>-121.8000</td>\n",
       "      <td>-118.4900</td>\n",
       "      <td>-118.01000</td>\n",
       "      <td>-114.3100</td>\n",
       "    </tr>\n",
       "    <tr>\n",
       "      <th>latitude</th>\n",
       "      <td>20640.0</td>\n",
       "      <td>35.631861</td>\n",
       "      <td>2.135952</td>\n",
       "      <td>32.5400</td>\n",
       "      <td>33.9300</td>\n",
       "      <td>34.2600</td>\n",
       "      <td>37.71000</td>\n",
       "      <td>41.9500</td>\n",
       "    </tr>\n",
       "    <tr>\n",
       "      <th>housing_median_age</th>\n",
       "      <td>20640.0</td>\n",
       "      <td>28.639486</td>\n",
       "      <td>12.585558</td>\n",
       "      <td>1.0000</td>\n",
       "      <td>18.0000</td>\n",
       "      <td>29.0000</td>\n",
       "      <td>37.00000</td>\n",
       "      <td>52.0000</td>\n",
       "    </tr>\n",
       "    <tr>\n",
       "      <th>total_rooms</th>\n",
       "      <td>20640.0</td>\n",
       "      <td>2635.763081</td>\n",
       "      <td>2181.615252</td>\n",
       "      <td>2.0000</td>\n",
       "      <td>1447.7500</td>\n",
       "      <td>2127.0000</td>\n",
       "      <td>3148.00000</td>\n",
       "      <td>39320.0000</td>\n",
       "    </tr>\n",
       "    <tr>\n",
       "      <th>total_bedrooms</th>\n",
       "      <td>20433.0</td>\n",
       "      <td>537.870553</td>\n",
       "      <td>421.385070</td>\n",
       "      <td>1.0000</td>\n",
       "      <td>296.0000</td>\n",
       "      <td>435.0000</td>\n",
       "      <td>647.00000</td>\n",
       "      <td>6445.0000</td>\n",
       "    </tr>\n",
       "    <tr>\n",
       "      <th>population</th>\n",
       "      <td>20640.0</td>\n",
       "      <td>1425.476744</td>\n",
       "      <td>1132.462122</td>\n",
       "      <td>3.0000</td>\n",
       "      <td>787.0000</td>\n",
       "      <td>1166.0000</td>\n",
       "      <td>1725.00000</td>\n",
       "      <td>35682.0000</td>\n",
       "    </tr>\n",
       "    <tr>\n",
       "      <th>households</th>\n",
       "      <td>20640.0</td>\n",
       "      <td>499.539680</td>\n",
       "      <td>382.329753</td>\n",
       "      <td>1.0000</td>\n",
       "      <td>280.0000</td>\n",
       "      <td>409.0000</td>\n",
       "      <td>605.00000</td>\n",
       "      <td>6082.0000</td>\n",
       "    </tr>\n",
       "    <tr>\n",
       "      <th>median_income</th>\n",
       "      <td>20640.0</td>\n",
       "      <td>3.870671</td>\n",
       "      <td>1.899822</td>\n",
       "      <td>0.4999</td>\n",
       "      <td>2.5634</td>\n",
       "      <td>3.5348</td>\n",
       "      <td>4.74325</td>\n",
       "      <td>15.0001</td>\n",
       "    </tr>\n",
       "    <tr>\n",
       "      <th>median_house_value</th>\n",
       "      <td>20640.0</td>\n",
       "      <td>206855.816909</td>\n",
       "      <td>115395.615874</td>\n",
       "      <td>14999.0000</td>\n",
       "      <td>119600.0000</td>\n",
       "      <td>179700.0000</td>\n",
       "      <td>264725.00000</td>\n",
       "      <td>500001.0000</td>\n",
       "    </tr>\n",
       "  </tbody>\n",
       "</table>\n",
       "</div>"
      ],
      "text/plain": [
       "                      count           mean            std         min  \\\n",
       "longitude           20640.0    -119.569704       2.003532   -124.3500   \n",
       "latitude            20640.0      35.631861       2.135952     32.5400   \n",
       "housing_median_age  20640.0      28.639486      12.585558      1.0000   \n",
       "total_rooms         20640.0    2635.763081    2181.615252      2.0000   \n",
       "total_bedrooms      20433.0     537.870553     421.385070      1.0000   \n",
       "population          20640.0    1425.476744    1132.462122      3.0000   \n",
       "households          20640.0     499.539680     382.329753      1.0000   \n",
       "median_income       20640.0       3.870671       1.899822      0.4999   \n",
       "median_house_value  20640.0  206855.816909  115395.615874  14999.0000   \n",
       "\n",
       "                            25%          50%           75%          max  \n",
       "longitude             -121.8000    -118.4900    -118.01000    -114.3100  \n",
       "latitude                33.9300      34.2600      37.71000      41.9500  \n",
       "housing_median_age      18.0000      29.0000      37.00000      52.0000  \n",
       "total_rooms           1447.7500    2127.0000    3148.00000   39320.0000  \n",
       "total_bedrooms         296.0000     435.0000     647.00000    6445.0000  \n",
       "population             787.0000    1166.0000    1725.00000   35682.0000  \n",
       "households             280.0000     409.0000     605.00000    6082.0000  \n",
       "median_income            2.5634       3.5348       4.74325      15.0001  \n",
       "median_house_value  119600.0000  179700.0000  264725.00000  500001.0000  "
      ]
     },
     "execution_count": 16,
     "metadata": {},
     "output_type": "execute_result"
    }
   ],
   "source": [
    "df.describe().T"
   ]
  },
  {
   "cell_type": "markdown",
   "id": "4ba31fa3",
   "metadata": {},
   "source": [
    "<div style=\"letter-spacing:normal; opacity:1.;\">\n",
    "  <h1 style=\"text-align:center; background-color: lightsalmon; color: Jaguar; border-radius:10px; font-family:monospace; border-radius:20px;\n",
    "            line-height:1.4; font-size:32px; font-weight:bold; text-transform: uppercase; padding: 9px;\">\n",
    "            <strong>3. Exloratory Data Analysis</strong></h1>   \n",
    "</div>"
   ]
  },
  {
   "cell_type": "markdown",
   "id": "9bf60445",
   "metadata": {},
   "source": [
    "### EDA\n",
    "\n",
    "* Load the data.\n",
    "* Look at the `median_house_value` variable. Does it have a long tail? "
   ]
  },
  {
   "cell_type": "code",
   "execution_count": 17,
   "id": "96122d0a",
   "metadata": {},
   "outputs": [
    {
     "data": {
      "image/png": "[encoded data removed]",
      "text/plain": [
       "<Figure size 800x600 with 1 Axes>"
      ]
     },
     "metadata": {},
     "output_type": "display_data"
    }
   ],
   "source": [
    "# Visualize the distribution of the 'median_house_value' variable using a histogram\n",
    "plt.figure(figsize=(8, 6))\n",
    "plt.hist(df['median_house_value'], bins='auto', color='dodgerblue', edgecolor='dodgerblue')\n",
    "plt.title('Distribution of median_house_value')\n",
    "plt.xlabel('Median House Value')\n",
    "plt.ylabel('Frequency')\n",
    "plt.grid(True)\n",
    "plt.show()"
   ]
  },
  {
   "cell_type": "markdown",
   "id": "8f649447",
   "metadata": {},
   "source": [
    "### Preparing the dataset \n",
    "\n",
    "For this homework, we only want to use a subset of data. \n",
    "\n",
    "First, keep only the records where `ocean_proximity` is either `'<1H OCEAN'` or `'INLAND'`\n",
    "\n",
    "Next, use only the following columns:\n",
    "\n",
    "* `'latitude'`,\n",
    "* `'longitude'`,\n",
    "* `'housing_median_age'`,\n",
    "* `'total_rooms'`,\n",
    "* `'total_bedrooms'`,\n",
    "* `'population'`,\n",
    "* `'households'`,\n",
    "* `'median_income'`,\n",
    "* `'median_house_value'`"
   ]
  },
  {
   "cell_type": "code",
   "execution_count": 18,
   "id": "88a5c0c7",
   "metadata": {},
   "outputs": [
    {
     "data": {
      "text/plain": [
       "(20640, 10)"
      ]
     },
     "execution_count": 18,
     "metadata": {},
     "output_type": "execute_result"
    }
   ],
   "source": [
    "origin_df = df.copy()\n",
    "origin_df.shape"
   ]
  },
  {
   "cell_type": "code",
   "execution_count": 19,
   "id": "198759fe",
   "metadata": {},
   "outputs": [
    {
     "data": {
      "text/plain": [
       "(15687, 10)"
      ]
     },
     "execution_count": 19,
     "metadata": {},
     "output_type": "execute_result"
    }
   ],
   "source": [
    "# Filter records with ocean_proximity either '<1H OCEAN' or 'INLAND'\n",
    "filtered_df = df[df['ocean_proximity'].isin(['<1H OCEAN', 'INLAND'])]\n",
    "filtered_df.shape"
   ]
  },
  {
   "cell_type": "code",
   "execution_count": 20,
   "metadata": {},
   "outputs": [
    {
     "data": {
      "text/plain": [
       "(15687, 9)"
      ]
     },
     "execution_count": 20,
     "metadata": {},
     "output_type": "execute_result"
    }
   ],
   "source": [
    "# Select only the specified columns\n",
    "selected_columns = [\n",
    "    'latitude', \n",
    "    'longitude', \n",
    "    'housing_median_age', \n",
    "    'total_rooms', \n",
    "    'total_bedrooms', \n",
    "    'population', \n",
    "    'households', \n",
    "    'median_income', \n",
    "    'median_house_value'\n",
    "]\n",
    "df = filtered_df[selected_columns]\n",
    "df.shape"
   ]
  },
  {
   "cell_type": "markdown",
   "id": "0453a313",
   "metadata": {},
   "source": [
    "### Question 1\n",
    "\n",
    "There's one feature with missing values. What is it?\n",
    "\n",
    "* `total_rooms`\n",
    "* `total_bedrooms`\n",
    "* `population`\n",
    "* `households`"
   ]
  },
  {
   "cell_type": "code",
   "execution_count": 21,
   "id": "da0e57ef",
   "metadata": {},
   "outputs": [
    {
     "data": {
      "text/plain": [
       "['total_bedrooms']"
      ]
     },
     "execution_count": 21,
     "metadata": {},
     "output_type": "execute_result"
    }
   ],
   "source": [
    "df.isna().sum()[df.isna().sum()>0].index.tolist()"
   ]
  },
  {
   "cell_type": "markdown",
   "id": "39b854fd",
   "metadata": {},
   "source": [
    "The answer: **total_bedrooms**"
   ]
  },
  {
   "cell_type": "code",
   "execution_count": 22,
   "id": "ccb4a063",
   "metadata": {},
   "outputs": [
    {
     "data": {
      "text/plain": [
       "latitude                0\n",
       "longitude               0\n",
       "housing_median_age      0\n",
       "total_rooms             0\n",
       "total_bedrooms        157\n",
       "population              0\n",
       "households              0\n",
       "median_income           0\n",
       "median_house_value      0\n",
       "dtype: int64"
      ]
     },
     "execution_count": 22,
     "metadata": {},
     "output_type": "execute_result"
    }
   ],
   "source": [
    "# Check for missing values\n",
    "df.isnull().sum()"
   ]
  },
  {
   "cell_type": "markdown",
   "id": "0194bfb5",
   "metadata": {},
   "source": [
    "### Question 2\n",
    "\n",
    "What's the median (50% percentile) for variable `'population'`?\n",
    "\n",
    "- 995\n",
    "- 1095\n",
    "- 1195\n",
    "- 1295"
   ]
  },
  {
   "cell_type": "code",
   "execution_count": 23,
   "id": "44192df4",
   "metadata": {},
   "outputs": [
    {
     "data": {
      "text/plain": [
       "(1195.0, 1195.0)"
      ]
     },
     "execution_count": 23,
     "metadata": {},
     "output_type": "execute_result"
    }
   ],
   "source": [
    "df.population.median(), df.population.quantile(.5)"
   ]
  },
  {
   "cell_type": "markdown",
   "id": "cb1896a3",
   "metadata": {},
   "source": [
    "The answer: **1195.0**"
   ]
  },
  {
   "cell_type": "markdown",
   "id": "808eab6d",
   "metadata": {},
   "source": [
    "### Prepare and split the dataset\n",
    "\n",
    "* Shuffle the dataset (the filtered one you created above), use seed `42`.\n",
    "* Split your data in train/val/test sets, with 60%/20%/20% distribution.\n",
    "* Apply the log transformation to the `median_house_value` variable using the `np.log1p()` function."
   ]
  },
  {
   "cell_type": "code",
   "execution_count": 24,
   "id": "5970d1c3",
   "metadata": {},
   "outputs": [
    {
     "data": {
      "text/plain": [
       "((9411, 9), (3138, 9), (3138, 9))"
      ]
     },
     "execution_count": 24,
     "metadata": {},
     "output_type": "execute_result"
    }
   ],
   "source": [
    "from sklearn.model_selection import train_test_split\n",
    "\n",
    "# Set the random seed for reproducibility\n",
    "SEED = 42\n",
    "np.random.seed(SEED)\n",
    "\n",
    "# Convert the DataFrame to a NumPy array\n",
    "# data_array = df.to_numpy()\n",
    "# Shuffle the NumPy array\n",
    "# np.random.shuffle(data_array)\n",
    "# Create a new DataFrame with shuffled data and original column names\n",
    "# shuffled_df = pd.DataFrame(data=data_array, columns=df.columns)\n",
    "shuffled_df = df.sample(frac=1, random_state=SEED)\n",
    "\n",
    "# Split the data into train/val/test sets (60%/20%/20%)\n",
    "full_train_df, test_df = train_test_split(shuffled_df, test_size=(2/10), random_state=SEED)\n",
    "train_df, val_df = train_test_split(full_train_df, test_size=(2/8), random_state=SEED)\n",
    "\n",
    "train_df.shape, val_df.shape, test_df.shape"
   ]
  },
  {
   "cell_type": "code",
   "execution_count": 25,
   "id": "d30a9746",
   "metadata": {},
   "outputs": [
    {
     "data": {
      "text/plain": [
       "((9411, 8), (9411,), (3138, 8), (3138,), (3138, 8), (3138,))"
      ]
     },
     "execution_count": 25,
     "metadata": {},
     "output_type": "execute_result"
    }
   ],
   "source": [
    "y_train = train_df.median_house_value.values\n",
    "train_df = train_df.drop(columns='median_house_value')\n",
    "\n",
    "y_val = val_df.median_house_value.values\n",
    "val_df = val_df.drop(columns='median_house_value')\n",
    "\n",
    "y_test = test_df.median_house_value.values\n",
    "test_df = test_df.drop(columns='median_house_value')\n",
    "\n",
    "y_train_log = np.log1p(y_train)\n",
    "y_val_log = np.log1p(y_val)\n",
    "y_test_log = np.log1p(y_test)\n",
    "\n",
    "train_df.shape, y_train.shape, val_df.shape, y_val.shape, test_df.shape, y_test.shape, "
   ]
  },
  {
   "cell_type": "markdown",
   "id": "98330311",
   "metadata": {},
   "source": [
    "### Question 3\n",
    "\n",
    "* We need to deal with missing values for the column from Q1.\n",
    "* We have two options: fill it with 0 or with the mean of this variable.\n",
    "* Try both options. For each, train a linear regression model without regularization using the code from the lessons.\n",
    "* For computing the mean, use the training only!\n",
    "* Use the validation dataset to evaluate the models and compare the RMSE of each option.\n",
    "* Round the RMSE scores to 2 decimal digits using `round(score, 2)`\n",
    "* Which option gives better RMSE?\n",
    "\n",
    "Options:\n",
    "\n",
    "- With 0\n",
    "- With mean\n",
    "- Both are equally good"
   ]
  },
  {
   "cell_type": "code",
   "execution_count": 26,
   "id": "6fd8779e",
   "metadata": {},
   "outputs": [],
   "source": [
    "def preprocessor_X(df: pd.DataFrame, fillna_value=-1):\n",
    "    \"\"\"\n",
    "    Preprocesses a DataFrame for machine learning by handling missing values and converting it into a NumPy array.\n",
    "\n",
    "    Parameters:\n",
    "    - df: pd.DataFrame\n",
    "        The input DataFrame containing features.\n",
    "    - fillna_value: int or float, optional (default=-1)\n",
    "        The value used to fill missing entries.\n",
    "\n",
    "    Returns:\n",
    "    - X: numpy.ndarray\n",
    "        A 2-D NumPy array containing the preprocessed data with missing values filled.\n",
    "    \"\"\"\n",
    "    df = df.fillna(fillna_value)\n",
    "    X = df.values\n",
    "    return X"
   ]
  },
  {
   "cell_type": "code",
   "execution_count": 27,
   "id": "51c2eb67",
   "metadata": {},
   "outputs": [],
   "source": [
    "def train_linear_regression(X, y):\n",
    "    \"\"\"\n",
    "    Train a linear regression model.\n",
    "\n",
    "    Parameters:\n",
    "    - X: Feature matrix containing input data.\n",
    "    - y: Target vector containing output data.\n",
    "\n",
    "    Returns:\n",
    "    - w0: Intercept (bias) of the linear regression model.\n",
    "    - w: Coefficients (weights) for each feature.\n",
    "\n",
    "    This function adds an intercept term to the feature matrix, computes the\n",
    "    optimal model parameters using the closed-form solution, and returns the\n",
    "    intercept and feature coefficients for a linear regression model.\n",
    "    \"\"\"\n",
    "    # Add a column of ones to the beginning of the feature matrix X, \n",
    "    # typically used for the intercept term in linear regression\n",
    "    ones = np.ones(X.shape[0])\n",
    "    X = np.column_stack([ones, X])\n",
    "\n",
    "    # Calculate X^T @ X and its inverse\n",
    "    XTX = X.T.dot(X)\n",
    "    XTX_inv = np.linalg.inv(XTX)\n",
    "    \n",
    "    # Calculate the weight vector 'w' using the normal equation\n",
    "    w = XTX_inv.dot(X.T).dot(y)  # (XTX_inv @ X.T) @ y\n",
    "    \n",
    "    # Return the intercept (w[0]) and the coefficients for features (w[1:])\n",
    "    return w[0], w[1:]"
   ]
  },
  {
   "cell_type": "code",
   "execution_count": 28,
   "id": "6ad4307e",
   "metadata": {},
   "outputs": [],
   "source": [
    "def rmse(y, y_pred):\n",
    "    \"\"\"\n",
    "    Calculate the Root Mean Squared Error (RMSE) between observed and predicted values.\n",
    "\n",
    "    Parameters:\n",
    "    - y: array-like, true target values\n",
    "    - y_pred: array-like, predicted target values\n",
    "\n",
    "    Returns:\n",
    "    - rmse: float, the Root Mean Squared Error\n",
    "    \"\"\"\n",
    "    # Calculate the error between predicted and true values\n",
    "    error = y_pred - y\n",
    "    \n",
    "    # Calculate the Mean Squared Error (MSE)\n",
    "    mse = np.mean(error ** 2)\n",
    "    \n",
    "    # Calculate the Root Mean Squared Error (RMSE)\n",
    "    rmse = np.sqrt(mse)    \n",
    "    return rmse"
   ]
  },
  {
   "cell_type": "markdown",
   "id": "1361579d",
   "metadata": {},
   "source": [
    "#### Question 3: With 0"
   ]
  },
  {
   "cell_type": "code",
   "execution_count": 29,
   "id": "5e2fa2c2",
   "metadata": {},
   "outputs": [
    {
     "data": {
      "text/plain": [
       "0.33"
      ]
     },
     "execution_count": 29,
     "metadata": {},
     "output_type": "execute_result"
    }
   ],
   "source": [
    "X_train = preprocessor_X(train_df, fillna_value=0)\n",
    "X_val = preprocessor_X(val_df, fillna_value=0)\n",
    "\n",
    "b, w = train_linear_regression(X_train, y_train_log)\n",
    "y_val_pred_log = X_val.dot(w) + b  # np.dot(X_val, w) + b\n",
    "\n",
    "rmse(y_val_log, y_val_pred_log).round(2)"
   ]
  },
  {
   "cell_type": "markdown",
   "id": "7945c2f3",
   "metadata": {},
   "source": [
    "#### Question 3: With mean"
   ]
  },
  {
   "cell_type": "code",
   "execution_count": 30,
   "id": "03d1baff",
   "metadata": {},
   "outputs": [
    {
     "data": {
      "text/plain": [
       "0.33"
      ]
     },
     "execution_count": 30,
     "metadata": {},
     "output_type": "execute_result"
    }
   ],
   "source": [
    "mean = train_df.total_bedrooms.mean()\n",
    "\n",
    "X_train = preprocessor_X(train_df, fillna_value=mean)\n",
    "X_val = preprocessor_X(val_df, fillna_value=mean)\n",
    "\n",
    "b, w = train_linear_regression(X_train, y_train_log)\n",
    "y_val_pred_log = X_val.dot(w) + b  # np.dot(X_val, w) + b\n",
    "\n",
    "rmse(y_val_log, y_val_pred_log).round(2)"
   ]
  },
  {
   "cell_type": "markdown",
   "id": "d5dd9a72",
   "metadata": {},
   "source": [
    "The answer: **Both are equally good**"
   ]
  },
  {
   "cell_type": "markdown",
   "id": "3111db33",
   "metadata": {},
   "source": [
    "### Question 4\n",
    "\n",
    "* Now let's train a regularized linear regression.\n",
    "* For this question, fill the NAs with 0. \n",
    "* Try different values of `r` from this list: `[0, 0.000001, 0.0001, 0.001, 0.01, 0.1, 1, 5, 10]`.\n",
    "* Use RMSE to evaluate the model on the validation dataset.\n",
    "* Round the RMSE scores to 2 decimal digits.\n",
    "* Which `r` gives the best RMSE?\n",
    "\n",
    "If there are multiple options, select the smallest `r`.\n",
    "\n",
    "Options:\n",
    "\n",
    "- 0\n",
    "- 0.000001\n",
    "- 0.001\n",
    "- 0.0001"
   ]
  },
  {
   "cell_type": "code",
   "execution_count": 31,
   "id": "82571bd7",
   "metadata": {},
   "outputs": [],
   "source": [
    "def train_linear_regression_reg(X, y, alpha=0.0):\n",
    "    \"\"\"\n",
    "    Train a regularized linear regression model.\n",
    "\n",
    "    Parameters:\n",
    "    - X: Feature matrix containing input data.\n",
    "    - y: Target vector containing output data.\n",
    "    - alpha: Regularization parameter (default is 0.0 for no regularization).\n",
    "\n",
    "    Returns:\n",
    "    - w0: Intercept (bias) of the linear regression model.\n",
    "    - w: Coefficients (weights) for each feature.\n",
    "\n",
    "    This function adds an intercept term to the feature matrix X, typically used for\n",
    "    the intercept term in linear regression. It also applies L2 regularization to the\n",
    "    model by adding the regularization term to the matrix XTX. (Ridge Regression)\n",
    "\n",
    "    The regularization parameter 'r' controls the strength of regularization, where\n",
    "    r=0 means no regularization. Larger 'r' values lead to stronger regularization.\n",
    "\n",
    "    The function computes the optimal model parameters using the closed-form solution\n",
    "    for regularized linear regression and returns the intercept and feature coefficients.\n",
    "    \"\"\"\n",
    "    # Add a column of ones to the beginning of the feature matrix X, \n",
    "    # typically used for the intercept term in linear regression\n",
    "    ones = np.ones(X.shape[0])\n",
    "    X = np.column_stack([ones, X])\n",
    "\n",
    "    # Calculate (X^T @ X), X transposed and multiplied by itself, \n",
    "    # which is used to calculate the model parameters without regularization.\n",
    "    XTX = X.T.dot(X)\n",
    "\n",
    "    # Apply L2 (ridge) regularization by adding a Penalty term to the linear regression model SSE.\n",
    "    # Loss = SSE Σ(yi - ŷi)^2 + Penalty (α * Σ(wi^2))\n",
    "    # An identity matrix with the same number of rows as XTX, scaled by the regularization parameter alpha. \n",
    "    # This means that the intermediate matrix XTX is regularized by adding a diagonal matrix with scaled Identity elements.\n",
    "    # It effectively adds a penalty term to the loss function, \n",
    "    # encouraging smaller and more stable coefficients in the linear regression model.\n",
    "    XTX = XTX + (alpha * np.eye(XTX.shape[0]))\n",
    "\n",
    "    # Get its inverse (XTX + alpha * I)^(-1)\n",
    "    XTX_inv = np.linalg.inv(XTX)\n",
    "\n",
    "    # Model Parameter Calculation, (np.linalg.inv((XTX + alpha * Identity) @ X.T) @ y\n",
    "    w = XTX_inv.dot(X.T).dot(y)\n",
    "    \n",
    "    return w[0], w[1:]"
   ]
  },
  {
   "cell_type": "code",
   "execution_count": 32,
   "metadata": {},
   "outputs": [
    {
     "name": "stdout",
     "output_type": "stream",
     "text": [
      "r (alpha):      0 - 0.33\n",
      "r (alpha):  1e-06 - 0.33\n",
      "r (alpha): 0.0001 - 0.33\n",
      "r (alpha):  0.001 - 0.33\n",
      "r (alpha):   0.01 - 0.33\n",
      "r (alpha):    0.1 - 0.33\n",
      "r (alpha):      1 - 0.34\n",
      "r (alpha):      5 - 0.34\n",
      "r (alpha):     10 - 0.34\n"
     ]
    }
   ],
   "source": [
    "X_train = preprocessor_X(train_df, fillna_value=0)\n",
    "X_val = preprocessor_X(val_df, fillna_value=0)\n",
    "\n",
    "for alpha in [0, 0.000001, 0.0001, 0.001, 0.01, 0.1, 1, 5, 10]:\n",
    "    b, w = train_linear_regression_reg(X_train, y_train_log, alpha=alpha)\n",
    "    y_val_pred_log = X_val.dot(w) + b\n",
    "    rmse_val = rmse(y_val_log, y_val_pred_log)\n",
    "    print('r (alpha): %06s - %0.2f' % (alpha, rmse_val))"
   ]
  },
  {
   "cell_type": "markdown",
   "id": "fa3f2998",
   "metadata": {},
   "source": [
    "The answer: **r=0**"
   ]
  },
  {
   "cell_type": "markdown",
   "id": "2bbf1abc",
   "metadata": {},
   "source": [
    "### Question 5 \n",
    "\n",
    "* We used seed 42 for splitting the data. Let's find out how selecting the seed influences our score.\n",
    "* Try different seed values: `[0, 1, 2, 3, 4, 5, 6, 7, 8, 9]`.\n",
    "* For each seed, do the train/validation/test split with 60%/20%/20% distribution.\n",
    "* Fill the missing values with 0 and train a model without regularization.\n",
    "* For each seed, evaluate the model on the validation dataset and collect the RMSE scores. \n",
    "* What's the standard deviation of all the scores? To compute the standard deviation, use `np.std`.\n",
    "* Round the result to 3 decimal digits (`round(std, 3)`)\n",
    "\n",
    "What's the value of std?\n",
    "\n",
    "- 0.5\n",
    "- 0.05\n",
    "- 0.005\n",
    "- 0.0005\n",
    "\n",
    "> Note: Standard deviation shows how different the values are. If it's low, then all values are approximately the same.<br>\n",
    "> If it's high, the values are different. If standard deviation of scores is low, then our model is *stable*."
   ]
  },
  {
   "cell_type": "code",
   "execution_count": 34,
   "metadata": {},
   "outputs": [
    {
     "name": "stdout",
     "output_type": "stream",
     "text": [
      "0 0.341921547846947\n",
      "1 0.34226843377707616\n",
      "2 0.3347806706663758\n",
      "3 0.3360753279824166\n",
      "4 0.3266039148031221\n",
      "5 0.3427880123663252\n",
      "6 0.345029532224206\n",
      "7 0.34511409436604323\n",
      "8 0.33417658467924366\n",
      "9 0.33315595895448075\n"
     ]
    }
   ],
   "source": [
    "rmses = []\n",
    "\n",
    "for SEED in [0, 1, 2, 3, 4, 5, 6, 7, 8, 9]:\n",
    "    # Create a new DataFrame with shuffled data\n",
    "    shuffled_df = df.sample(frac=1, random_state=SEED)\n",
    "\n",
    "    # Split the data into train/val/test sets (60%/20%/20%)\n",
    "    full_train_df, test_df = train_test_split(shuffled_df, test_size=(2/10), random_state=SEED)\n",
    "    train_df, val_df = train_test_split(full_train_df, test_size=(2/8), random_state=SEED)\n",
    "\n",
    "    y_train = train_df.median_house_value.values\n",
    "    y_train_log = np.log1p(y_train)\n",
    "    train_df = train_df.drop(columns='median_house_value')\n",
    "\n",
    "    y_val = val_df.median_house_value.values\n",
    "    y_val_log = np.log1p(y_val)\n",
    "    val_df = val_df.drop(columns='median_house_value')\n",
    "\n",
    "    y_test = test_df.median_house_value.values\n",
    "    y_test_log = np.log1p(y_test)\n",
    "    test_df = test_df.drop(columns='median_house_value')\n",
    "\n",
    "\n",
    "    X_train = preprocessor_X(train_df, fillna_value=0)\n",
    "    X_val = preprocessor_X(val_df, fillna_value=0)\n",
    "    \n",
    "    b, w = train_linear_regression(X_train, y_train_log)\n",
    "    y_val_pred_log = X_val.dot(w) + b\n",
    "\n",
    "    rmse_val = rmse(y_val_log, y_val_pred_log)\n",
    "    print(SEED, rmse_val)\n",
    "    \n",
    "    rmses.append(rmse_val)"
   ]
  },
  {
   "cell_type": "code",
   "execution_count": 35,
   "metadata": {},
   "outputs": [
    {
     "data": {
      "text/plain": [
       "0.006"
      ]
     },
     "execution_count": 35,
     "metadata": {},
     "output_type": "execute_result"
    }
   ],
   "source": [
    "np.std(rmses).round(3)"
   ]
  },
  {
   "cell_type": "markdown",
   "id": "5c1ef294",
   "metadata": {},
   "source": [
    "### Question 6\n",
    "\n",
    "* Split the dataset like previously, use seed 9.\n",
    "* Combine train and validation datasets.\n",
    "* Fill the missing values with 0 and train a model with `r=0.001`. \n",
    "* What's the RMSE on the test dataset?\n",
    "\n",
    "Options:\n",
    "\n",
    "- 0.13\n",
    "- 0.23\n",
    "- 0.33\n",
    "- 0.43"
   ]
  },
  {
   "cell_type": "code",
   "execution_count": 36,
   "metadata": {},
   "outputs": [],
   "source": [
    "# Create a new DataFrame with shuffled data\n",
    "shuffled_df = df.sample(frac=1, random_state=SEED)\n",
    "\n",
    "# Split the data into train/val/test sets (60%/20%/20%)\n",
    "full_train_df, test_df = train_test_split(shuffled_df, test_size=(2/10), random_state=SEED)\n",
    "\n",
    "y_train = full_train_df.median_house_value.values\n",
    "y_train_log = np.log1p(y_train)\n",
    "train_df = full_train_df.drop(columns='median_house_value')\n",
    "\n",
    "y_test = test_df.median_house_value.values\n",
    "y_test_log = np.log1p(y_test)\n",
    "test_df = test_df.drop(columns='median_house_value')"
   ]
  },
  {
   "cell_type": "code",
   "execution_count": 38,
   "metadata": {},
   "outputs": [],
   "source": [
    "X_train = preprocessor_X(train_df, fillna_value=0)\n",
    "X_test = preprocessor_X(test_df, fillna_value=0)"
   ]
  },
  {
   "cell_type": "code",
   "execution_count": 40,
   "id": "32894edc",
   "metadata": {},
   "outputs": [
    {
     "name": "stdout",
     "output_type": "stream",
     "text": [
      "9 0.34\n"
     ]
    }
   ],
   "source": [
    "b, w = train_linear_regression_reg(X_train, y_train_log, alpha=0.001)\n",
    "y_test_pred_log = X_test.dot(w) + b\n",
    "\n",
    "rmse_val = rmse(y_test_log, y_test_pred_log).round(2)\n",
    "print(SEED, rmse_val)"
   ]
  },
  {
   "cell_type": "markdown",
   "id": "eed7c4fd",
   "metadata": {},
   "source": [
    "## End of Project"
   ]
  }
 ],
 "metadata": {
  "kernelspec": {
   "display_name": "Python 3 (ipykernel)",
   "language": "python",
   "name": "python3"
  },
  "language_info": {
   "codemirror_mode": {
    "name": "ipython",
    "version": 3
   },
   "file_extension": ".py",
   "mimetype": "text/x-python",
   "name": "python",
   "nbconvert_exporter": "python",
   "pygments_lexer": "ipython3",
   "version": "3.10.12"
  },
  "toc": {
   "base_numbering": 1,
   "nav_menu": {},
   "number_sections": true,
   "sideBar": true,
   "skip_h1_title": false,
   "title_cell": "Table of Contents",
   "title_sidebar": "Contents",
   "toc_cell": false,
   "toc_position": {},
   "toc_section_display": true,
   "toc_window_display": false
  }
 },
 "nbformat": 4,
 "nbformat_minor": 5
}
